{
 "cells": [
  {
   "cell_type": "code",
   "execution_count": 2,
   "id": "7fcc9451",
   "metadata": {},
   "outputs": [],
   "source": [
    "import pandas as pd\n",
    "import numpy as np\n",
    "import matplotlib.pyplot as plt\n"
   ]
  },
  {
   "cell_type": "code",
   "execution_count": 13,
   "id": "4d3c5740",
   "metadata": {},
   "outputs": [
    {
     "data": {
      "text/html": [
       "<div>\n",
       "<style scoped>\n",
       "    .dataframe tbody tr th:only-of-type {\n",
       "        vertical-align: middle;\n",
       "    }\n",
       "\n",
       "    .dataframe tbody tr th {\n",
       "        vertical-align: top;\n",
       "    }\n",
       "\n",
       "    .dataframe thead th {\n",
       "        text-align: right;\n",
       "    }\n",
       "</style>\n",
       "<table border=\"1\" class=\"dataframe\">\n",
       "  <thead>\n",
       "    <tr style=\"text-align: right;\">\n",
       "      <th></th>\n",
       "      <th>dt</th>\n",
       "      <th>AverageTemperature</th>\n",
       "      <th>AverageTemperatureUncertainty</th>\n",
       "      <th>City</th>\n",
       "      <th>Country</th>\n",
       "      <th>Latitude</th>\n",
       "      <th>Longitude</th>\n",
       "    </tr>\n",
       "  </thead>\n",
       "  <tbody>\n",
       "    <tr>\n",
       "      <th>0</th>\n",
       "      <td>1743-11-01</td>\n",
       "      <td>6.068</td>\n",
       "      <td>1.737</td>\n",
       "      <td>Århus</td>\n",
       "      <td>Denmark</td>\n",
       "      <td>57.05N</td>\n",
       "      <td>10.33E</td>\n",
       "    </tr>\n",
       "    <tr>\n",
       "      <th>1</th>\n",
       "      <td>1743-12-01</td>\n",
       "      <td>NaN</td>\n",
       "      <td>NaN</td>\n",
       "      <td>Århus</td>\n",
       "      <td>Denmark</td>\n",
       "      <td>57.05N</td>\n",
       "      <td>10.33E</td>\n",
       "    </tr>\n",
       "    <tr>\n",
       "      <th>2</th>\n",
       "      <td>1744-01-01</td>\n",
       "      <td>NaN</td>\n",
       "      <td>NaN</td>\n",
       "      <td>Århus</td>\n",
       "      <td>Denmark</td>\n",
       "      <td>57.05N</td>\n",
       "      <td>10.33E</td>\n",
       "    </tr>\n",
       "    <tr>\n",
       "      <th>3</th>\n",
       "      <td>1744-02-01</td>\n",
       "      <td>NaN</td>\n",
       "      <td>NaN</td>\n",
       "      <td>Århus</td>\n",
       "      <td>Denmark</td>\n",
       "      <td>57.05N</td>\n",
       "      <td>10.33E</td>\n",
       "    </tr>\n",
       "    <tr>\n",
       "      <th>4</th>\n",
       "      <td>1744-03-01</td>\n",
       "      <td>NaN</td>\n",
       "      <td>NaN</td>\n",
       "      <td>Århus</td>\n",
       "      <td>Denmark</td>\n",
       "      <td>57.05N</td>\n",
       "      <td>10.33E</td>\n",
       "    </tr>\n",
       "    <tr>\n",
       "      <th>...</th>\n",
       "      <td>...</td>\n",
       "      <td>...</td>\n",
       "      <td>...</td>\n",
       "      <td>...</td>\n",
       "      <td>...</td>\n",
       "      <td>...</td>\n",
       "      <td>...</td>\n",
       "    </tr>\n",
       "    <tr>\n",
       "      <th>95</th>\n",
       "      <td>1751-10-01</td>\n",
       "      <td>NaN</td>\n",
       "      <td>NaN</td>\n",
       "      <td>Århus</td>\n",
       "      <td>Denmark</td>\n",
       "      <td>57.05N</td>\n",
       "      <td>10.33E</td>\n",
       "    </tr>\n",
       "    <tr>\n",
       "      <th>96</th>\n",
       "      <td>1751-11-01</td>\n",
       "      <td>NaN</td>\n",
       "      <td>NaN</td>\n",
       "      <td>Århus</td>\n",
       "      <td>Denmark</td>\n",
       "      <td>57.05N</td>\n",
       "      <td>10.33E</td>\n",
       "    </tr>\n",
       "    <tr>\n",
       "      <th>97</th>\n",
       "      <td>1751-12-01</td>\n",
       "      <td>NaN</td>\n",
       "      <td>NaN</td>\n",
       "      <td>Århus</td>\n",
       "      <td>Denmark</td>\n",
       "      <td>57.05N</td>\n",
       "      <td>10.33E</td>\n",
       "    </tr>\n",
       "    <tr>\n",
       "      <th>98</th>\n",
       "      <td>1752-01-01</td>\n",
       "      <td>-0.781</td>\n",
       "      <td>2.622</td>\n",
       "      <td>Århus</td>\n",
       "      <td>Denmark</td>\n",
       "      <td>57.05N</td>\n",
       "      <td>10.33E</td>\n",
       "    </tr>\n",
       "    <tr>\n",
       "      <th>99</th>\n",
       "      <td>1752-02-01</td>\n",
       "      <td>NaN</td>\n",
       "      <td>NaN</td>\n",
       "      <td>Århus</td>\n",
       "      <td>Denmark</td>\n",
       "      <td>57.05N</td>\n",
       "      <td>10.33E</td>\n",
       "    </tr>\n",
       "  </tbody>\n",
       "</table>\n",
       "<p>100 rows × 7 columns</p>\n",
       "</div>"
      ],
      "text/plain": [
       "            dt  AverageTemperature  AverageTemperatureUncertainty   City  \\\n",
       "0   1743-11-01               6.068                          1.737  Århus   \n",
       "1   1743-12-01                 NaN                            NaN  Århus   \n",
       "2   1744-01-01                 NaN                            NaN  Århus   \n",
       "3   1744-02-01                 NaN                            NaN  Århus   \n",
       "4   1744-03-01                 NaN                            NaN  Århus   \n",
       "..         ...                 ...                            ...    ...   \n",
       "95  1751-10-01                 NaN                            NaN  Århus   \n",
       "96  1751-11-01                 NaN                            NaN  Århus   \n",
       "97  1751-12-01                 NaN                            NaN  Århus   \n",
       "98  1752-01-01              -0.781                          2.622  Århus   \n",
       "99  1752-02-01                 NaN                            NaN  Århus   \n",
       "\n",
       "    Country Latitude Longitude  \n",
       "0   Denmark   57.05N    10.33E  \n",
       "1   Denmark   57.05N    10.33E  \n",
       "2   Denmark   57.05N    10.33E  \n",
       "3   Denmark   57.05N    10.33E  \n",
       "4   Denmark   57.05N    10.33E  \n",
       "..      ...      ...       ...  \n",
       "95  Denmark   57.05N    10.33E  \n",
       "96  Denmark   57.05N    10.33E  \n",
       "97  Denmark   57.05N    10.33E  \n",
       "98  Denmark   57.05N    10.33E  \n",
       "99  Denmark   57.05N    10.33E  \n",
       "\n",
       "[100 rows x 7 columns]"
      ]
     },
     "execution_count": 13,
     "metadata": {},
     "output_type": "execute_result"
    }
   ],
   "source": [
    "df = pd.read_csv(\"Resources/GlobalLandTemperaturesByCity.csv\")\n",
    "df.head(100)\n"
   ]
  },
  {
   "cell_type": "code",
   "execution_count": 4,
   "id": "d5386d04",
   "metadata": {},
   "outputs": [
    {
     "data": {
      "text/plain": [
       "(8599212, 7)"
      ]
     },
     "execution_count": 4,
     "metadata": {},
     "output_type": "execute_result"
    }
   ],
   "source": [
    "df.shape"
   ]
  },
  {
   "cell_type": "code",
   "execution_count": 17,
   "id": "022574a3",
   "metadata": {},
   "outputs": [
    {
     "data": {
      "text/plain": [
       "dt                                object\n",
       "AverageTemperature               float64\n",
       "AverageTemperatureUncertainty    float64\n",
       "City                              object\n",
       "Country                           object\n",
       "Latitude                          object\n",
       "Longitude                         object\n",
       "dtype: object"
      ]
     },
     "execution_count": 17,
     "metadata": {},
     "output_type": "execute_result"
    }
   ],
   "source": [
    "df.dtypes"
   ]
  },
  {
   "cell_type": "code",
   "execution_count": 6,
   "id": "6de5bb1f",
   "metadata": {},
   "outputs": [
    {
     "data": {
      "text/plain": [
       "array(['Århus', 'Çorlu', 'Çorum', ..., 'Zurich', 'Zuwarah', 'Zwolle'],\n",
       "      dtype=object)"
      ]
     },
     "execution_count": 6,
     "metadata": {},
     "output_type": "execute_result"
    }
   ],
   "source": [
    "#List of state names\n",
    "city_names = df.City.unique()\n",
    "city_names"
   ]
  },
  {
   "cell_type": "code",
   "execution_count": 7,
   "id": "f31db935",
   "metadata": {},
   "outputs": [
    {
     "data": {
      "text/plain": [
       "array(['Denmark', 'Turkey', 'Kazakhstan', 'China', 'Spain', 'Germany',\n",
       "       'Nigeria', 'Iran', 'Russia', 'Canada', \"Côte D'Ivoire\",\n",
       "       'United Kingdom', 'Saudi Arabia', 'Japan', 'United States',\n",
       "       'India', 'Benin', 'United Arab Emirates', 'Mexico', 'Venezuela',\n",
       "       'Ghana', 'Ethiopia', 'Australia', 'Yemen', 'Indonesia', 'Morocco',\n",
       "       'Pakistan', 'France', 'Libya', 'Burma', 'Brazil', 'South Africa',\n",
       "       'Syria', 'Egypt', 'Algeria', 'Netherlands', 'Malaysia', 'Portugal',\n",
       "       'Ecuador', 'Italy', 'Uzbekistan', 'Philippines', 'Madagascar',\n",
       "       'Chile', 'Belgium', 'El Salvador', 'Romania', 'Peru', 'Colombia',\n",
       "       'Tanzania', 'Tunisia', 'Turkmenistan', 'Israel', 'Eritrea',\n",
       "       'Paraguay', 'Greece', 'New Zealand', 'Vietnam', 'Cameroon', 'Iraq',\n",
       "       'Afghanistan', 'Argentina', 'Azerbaijan', 'Moldova', 'Mali',\n",
       "       'Congo (Democratic Republic Of The)', 'Thailand',\n",
       "       'Central African Republic', 'Bosnia And Herzegovina', 'Bangladesh',\n",
       "       'Switzerland', 'Equatorial Guinea', 'Cuba', 'Lebanon',\n",
       "       'Mozambique', 'Serbia', 'Angola', 'Somalia', 'Norway', 'Nepal',\n",
       "       'Poland', 'Ukraine', 'Guinea Bissau', 'Malawi', 'Burkina Faso',\n",
       "       'Slovakia', 'Congo', 'Belarus', 'Gambia', 'Czech Republic',\n",
       "       'Hungary', 'Burundi', 'Zimbabwe', 'Bulgaria', 'Haiti',\n",
       "       'Puerto Rico', 'Sri Lanka', 'Nicaragua', 'Zambia', 'Honduras',\n",
       "       'Taiwan', 'Bolivia', 'Guinea', 'Ireland', 'Senegal', 'Latvia',\n",
       "       'Qatar', 'Albania', 'Tajikistan', 'Kenya', 'Guatemala', 'Finland',\n",
       "       'Sierra Leone', 'Sweden', 'Botswana', 'Guyana', 'Austria',\n",
       "       'Uganda', 'Armenia', 'Dominican Republic', 'Jordan', 'Djibouti',\n",
       "       'Sudan', 'Lithuania', 'Rwanda', 'Jamaica', 'Togo', 'Macedonia',\n",
       "       'Cyprus', 'Gabon', 'Slovenia', 'Bahrain', 'Swaziland', 'Niger',\n",
       "       'Lesotho', 'Liberia', 'Uruguay', 'Chad', 'Bahamas', 'Mauritania',\n",
       "       'Panama', 'Suriname', 'Cambodia', 'Montenegro', 'Mauritius',\n",
       "       'Papua New Guinea', 'Iceland', 'Croatia', 'Reunion', 'Oman',\n",
       "       'Costa Rica', 'South Korea', 'Hong Kong', 'Singapore', 'Estonia',\n",
       "       'Georgia', 'Mongolia', 'Laos', 'Namibia'], dtype=object)"
      ]
     },
     "execution_count": 7,
     "metadata": {},
     "output_type": "execute_result"
    }
   ],
   "source": [
    "# list of country names\n",
    "country_names = df.Country.unique()\n",
    "country_names"
   ]
  },
  {
   "cell_type": "code",
   "execution_count": 8,
   "id": "229b907a",
   "metadata": {},
   "outputs": [
    {
     "data": {
      "text/plain": [
       "False    8235082\n",
       "True      364130\n",
       "Name: AverageTemperature, dtype: int64"
      ]
     },
     "execution_count": 8,
     "metadata": {},
     "output_type": "execute_result"
    }
   ],
   "source": [
    "df.AverageTemperature.isna().value_counts()"
   ]
  },
  {
   "cell_type": "code",
   "execution_count": 9,
   "id": "ee5c24a2",
   "metadata": {},
   "outputs": [
    {
     "data": {
      "text/plain": [
       "0.04421692461592975"
      ]
     },
     "execution_count": 9,
     "metadata": {},
     "output_type": "execute_result"
    }
   ],
   "source": [
    "#Percentage of null values\n",
    "364130/8235082"
   ]
  },
  {
   "cell_type": "code",
   "execution_count": null,
   "id": "66f69b0f",
   "metadata": {},
   "outputs": [],
   "source": []
  },
  {
   "cell_type": "markdown",
   "id": "df616494",
   "metadata": {},
   "source": [
    "Change dt column to a date time object"
   ]
  },
  {
   "cell_type": "code",
   "execution_count": 18,
   "id": "3dbcb352",
   "metadata": {},
   "outputs": [],
   "source": [
    "df_clean.dt = pd.to_datetime(df_clean.dt)\n"
   ]
  },
  {
   "cell_type": "code",
   "execution_count": 21,
   "id": "ff12405d",
   "metadata": {},
   "outputs": [
    {
     "data": {
      "text/plain": [
       "dt                               datetime64[ns]\n",
       "AverageTemperature                      float64\n",
       "AverageTemperatureUncertainty           float64\n",
       "City                                     object\n",
       "Country                                  object\n",
       "Latitude                                 object\n",
       "Longitude                                object\n",
       "dtype: object"
      ]
     },
     "execution_count": 21,
     "metadata": {},
     "output_type": "execute_result"
    }
   ],
   "source": [
    "df_clean.dtypes"
   ]
  },
  {
   "cell_type": "code",
   "execution_count": 28,
   "id": "acb69425",
   "metadata": {},
   "outputs": [],
   "source": [
    "df2 = df_clean[df_clean[\"dt\"] >= \"1921\"]"
   ]
  },
  {
   "cell_type": "markdown",
   "id": "6e345a60",
   "metadata": {},
   "source": [
    "# Removing null cells from Average Temperature"
   ]
  },
  {
   "cell_type": "code",
   "execution_count": 29,
   "id": "72df2223",
   "metadata": {},
   "outputs": [
    {
     "data": {
      "text/plain": [
       "False    3903560\n",
       "True        3070\n",
       "Name: AverageTemperature, dtype: int64"
      ]
     },
     "execution_count": 29,
     "metadata": {},
     "output_type": "execute_result"
    }
   ],
   "source": [
    "df2.AverageTemperature.isna().value_counts()"
   ]
  },
  {
   "cell_type": "code",
   "execution_count": 30,
   "id": "4e7565a6",
   "metadata": {},
   "outputs": [
    {
     "data": {
      "text/plain": [
       "0.000786461588908586"
      ]
     },
     "execution_count": 30,
     "metadata": {},
     "output_type": "execute_result"
    }
   ],
   "source": [
    "3070/3903560"
   ]
  },
  {
   "cell_type": "code",
   "execution_count": 31,
   "id": "d5e61101",
   "metadata": {},
   "outputs": [
    {
     "name": "stderr",
     "output_type": "stream",
     "text": [
      "C:\\Users\\trevo\\anaconda3\\envs\\myprojects\\lib\\site-packages\\pandas\\core\\generic.py:5516: SettingWithCopyWarning: \n",
      "A value is trying to be set on a copy of a slice from a DataFrame.\n",
      "Try using .loc[row_indexer,col_indexer] = value instead\n",
      "\n",
      "See the caveats in the documentation: https://pandas.pydata.org/pandas-docs/stable/user_guide/indexing.html#returning-a-view-versus-a-copy\n",
      "  self[name] = value\n"
     ]
    }
   ],
   "source": [
    "df2.AverageTemperature = df2.AverageTemperature.fillna(method='bfill')"
   ]
  },
  {
   "cell_type": "code",
   "execution_count": 32,
   "id": "5f85f761",
   "metadata": {},
   "outputs": [
    {
     "data": {
      "text/plain": [
       "False    3906629\n",
       "True           1\n",
       "Name: AverageTemperature, dtype: int64"
      ]
     },
     "execution_count": 32,
     "metadata": {},
     "output_type": "execute_result"
    }
   ],
   "source": [
    "df2.AverageTemperature.isna().value_counts()"
   ]
  },
  {
   "cell_type": "code",
   "execution_count": 33,
   "id": "b2a2459e",
   "metadata": {},
   "outputs": [
    {
     "name": "stderr",
     "output_type": "stream",
     "text": [
      "C:\\Users\\trevo\\anaconda3\\envs\\myprojects\\lib\\site-packages\\pandas\\core\\generic.py:5516: SettingWithCopyWarning: \n",
      "A value is trying to be set on a copy of a slice from a DataFrame.\n",
      "Try using .loc[row_indexer,col_indexer] = value instead\n",
      "\n",
      "See the caveats in the documentation: https://pandas.pydata.org/pandas-docs/stable/user_guide/indexing.html#returning-a-view-versus-a-copy\n",
      "  self[name] = value\n"
     ]
    }
   ],
   "source": [
    "df2.AverageTemperature = df2.AverageTemperature.fillna(method='ffill')"
   ]
  },
  {
   "cell_type": "code",
   "execution_count": 34,
   "id": "9cf7b31e",
   "metadata": {},
   "outputs": [
    {
     "data": {
      "text/plain": [
       "False    3906630\n",
       "Name: AverageTemperature, dtype: int64"
      ]
     },
     "execution_count": 34,
     "metadata": {},
     "output_type": "execute_result"
    }
   ],
   "source": [
    "df2.AverageTemperature.isna().value_counts()"
   ]
  },
  {
   "cell_type": "markdown",
   "id": "44bb398c",
   "metadata": {},
   "source": [
    "# Convert Average Temperature celsius to fahrenheit"
   ]
  },
  {
   "cell_type": "code",
   "execution_count": 35,
   "id": "c729b164",
   "metadata": {},
   "outputs": [
    {
     "data": {
      "text/html": [
       "<div>\n",
       "<style scoped>\n",
       "    .dataframe tbody tr th:only-of-type {\n",
       "        vertical-align: middle;\n",
       "    }\n",
       "\n",
       "    .dataframe tbody tr th {\n",
       "        vertical-align: top;\n",
       "    }\n",
       "\n",
       "    .dataframe thead th {\n",
       "        text-align: right;\n",
       "    }\n",
       "</style>\n",
       "<table border=\"1\" class=\"dataframe\">\n",
       "  <thead>\n",
       "    <tr style=\"text-align: right;\">\n",
       "      <th></th>\n",
       "      <th>dt</th>\n",
       "      <th>AverageTemperature</th>\n",
       "      <th>AverageTemperatureUncertainty</th>\n",
       "      <th>City</th>\n",
       "      <th>Country</th>\n",
       "      <th>Latitude</th>\n",
       "      <th>Longitude</th>\n",
       "    </tr>\n",
       "  </thead>\n",
       "  <tbody>\n",
       "    <tr>\n",
       "      <th>2126</th>\n",
       "      <td>1921-01-01</td>\n",
       "      <td>2.409</td>\n",
       "      <td>0.430</td>\n",
       "      <td>Århus</td>\n",
       "      <td>Denmark</td>\n",
       "      <td>57.05N</td>\n",
       "      <td>10.33E</td>\n",
       "    </tr>\n",
       "    <tr>\n",
       "      <th>2127</th>\n",
       "      <td>1921-02-01</td>\n",
       "      <td>1.995</td>\n",
       "      <td>0.437</td>\n",
       "      <td>Århus</td>\n",
       "      <td>Denmark</td>\n",
       "      <td>57.05N</td>\n",
       "      <td>10.33E</td>\n",
       "    </tr>\n",
       "    <tr>\n",
       "      <th>2128</th>\n",
       "      <td>1921-03-01</td>\n",
       "      <td>5.295</td>\n",
       "      <td>0.332</td>\n",
       "      <td>Århus</td>\n",
       "      <td>Denmark</td>\n",
       "      <td>57.05N</td>\n",
       "      <td>10.33E</td>\n",
       "    </tr>\n",
       "    <tr>\n",
       "      <th>2129</th>\n",
       "      <td>1921-04-01</td>\n",
       "      <td>8.332</td>\n",
       "      <td>0.456</td>\n",
       "      <td>Århus</td>\n",
       "      <td>Denmark</td>\n",
       "      <td>57.05N</td>\n",
       "      <td>10.33E</td>\n",
       "    </tr>\n",
       "    <tr>\n",
       "      <th>2130</th>\n",
       "      <td>1921-05-01</td>\n",
       "      <td>12.552</td>\n",
       "      <td>0.423</td>\n",
       "      <td>Århus</td>\n",
       "      <td>Denmark</td>\n",
       "      <td>57.05N</td>\n",
       "      <td>10.33E</td>\n",
       "    </tr>\n",
       "    <tr>\n",
       "      <th>...</th>\n",
       "      <td>...</td>\n",
       "      <td>...</td>\n",
       "      <td>...</td>\n",
       "      <td>...</td>\n",
       "      <td>...</td>\n",
       "      <td>...</td>\n",
       "      <td>...</td>\n",
       "    </tr>\n",
       "    <tr>\n",
       "      <th>8599207</th>\n",
       "      <td>2013-05-01</td>\n",
       "      <td>11.464</td>\n",
       "      <td>0.236</td>\n",
       "      <td>Zwolle</td>\n",
       "      <td>Netherlands</td>\n",
       "      <td>52.24N</td>\n",
       "      <td>5.26E</td>\n",
       "    </tr>\n",
       "    <tr>\n",
       "      <th>8599208</th>\n",
       "      <td>2013-06-01</td>\n",
       "      <td>15.043</td>\n",
       "      <td>0.261</td>\n",
       "      <td>Zwolle</td>\n",
       "      <td>Netherlands</td>\n",
       "      <td>52.24N</td>\n",
       "      <td>5.26E</td>\n",
       "    </tr>\n",
       "    <tr>\n",
       "      <th>8599209</th>\n",
       "      <td>2013-07-01</td>\n",
       "      <td>18.775</td>\n",
       "      <td>0.193</td>\n",
       "      <td>Zwolle</td>\n",
       "      <td>Netherlands</td>\n",
       "      <td>52.24N</td>\n",
       "      <td>5.26E</td>\n",
       "    </tr>\n",
       "    <tr>\n",
       "      <th>8599210</th>\n",
       "      <td>2013-08-01</td>\n",
       "      <td>18.025</td>\n",
       "      <td>0.298</td>\n",
       "      <td>Zwolle</td>\n",
       "      <td>Netherlands</td>\n",
       "      <td>52.24N</td>\n",
       "      <td>5.26E</td>\n",
       "    </tr>\n",
       "    <tr>\n",
       "      <th>8599211</th>\n",
       "      <td>2013-09-01</td>\n",
       "      <td>18.025</td>\n",
       "      <td>NaN</td>\n",
       "      <td>Zwolle</td>\n",
       "      <td>Netherlands</td>\n",
       "      <td>52.24N</td>\n",
       "      <td>5.26E</td>\n",
       "    </tr>\n",
       "  </tbody>\n",
       "</table>\n",
       "<p>3906630 rows × 7 columns</p>\n",
       "</div>"
      ],
      "text/plain": [
       "                dt  AverageTemperature  AverageTemperatureUncertainty    City  \\\n",
       "2126    1921-01-01               2.409                          0.430   Århus   \n",
       "2127    1921-02-01               1.995                          0.437   Århus   \n",
       "2128    1921-03-01               5.295                          0.332   Århus   \n",
       "2129    1921-04-01               8.332                          0.456   Århus   \n",
       "2130    1921-05-01              12.552                          0.423   Århus   \n",
       "...            ...                 ...                            ...     ...   \n",
       "8599207 2013-05-01              11.464                          0.236  Zwolle   \n",
       "8599208 2013-06-01              15.043                          0.261  Zwolle   \n",
       "8599209 2013-07-01              18.775                          0.193  Zwolle   \n",
       "8599210 2013-08-01              18.025                          0.298  Zwolle   \n",
       "8599211 2013-09-01              18.025                            NaN  Zwolle   \n",
       "\n",
       "             Country Latitude Longitude  \n",
       "2126         Denmark   57.05N    10.33E  \n",
       "2127         Denmark   57.05N    10.33E  \n",
       "2128         Denmark   57.05N    10.33E  \n",
       "2129         Denmark   57.05N    10.33E  \n",
       "2130         Denmark   57.05N    10.33E  \n",
       "...              ...      ...       ...  \n",
       "8599207  Netherlands   52.24N     5.26E  \n",
       "8599208  Netherlands   52.24N     5.26E  \n",
       "8599209  Netherlands   52.24N     5.26E  \n",
       "8599210  Netherlands   52.24N     5.26E  \n",
       "8599211  Netherlands   52.24N     5.26E  \n",
       "\n",
       "[3906630 rows x 7 columns]"
      ]
     },
     "execution_count": 35,
     "metadata": {},
     "output_type": "execute_result"
    }
   ],
   "source": [
    "df2"
   ]
  },
  {
   "cell_type": "code",
   "execution_count": 37,
   "id": "f3b59a76",
   "metadata": {},
   "outputs": [
    {
     "name": "stderr",
     "output_type": "stream",
     "text": [
      "C:\\Users\\trevo\\anaconda3\\envs\\myprojects\\lib\\site-packages\\pandas\\core\\generic.py:5516: SettingWithCopyWarning: \n",
      "A value is trying to be set on a copy of a slice from a DataFrame.\n",
      "Try using .loc[row_indexer,col_indexer] = value instead\n",
      "\n",
      "See the caveats in the documentation: https://pandas.pydata.org/pandas-docs/stable/user_guide/indexing.html#returning-a-view-versus-a-copy\n",
      "  self[name] = value\n"
     ]
    }
   ],
   "source": [
    "df2.AverageTemperature = df2[\"AverageTemperature\"] *(9/5) + 32"
   ]
  },
  {
   "cell_type": "code",
   "execution_count": 43,
   "id": "3ca3a8c9",
   "metadata": {},
   "outputs": [
    {
     "data": {
      "text/html": [
       "<div>\n",
       "<style scoped>\n",
       "    .dataframe tbody tr th:only-of-type {\n",
       "        vertical-align: middle;\n",
       "    }\n",
       "\n",
       "    .dataframe tbody tr th {\n",
       "        vertical-align: top;\n",
       "    }\n",
       "\n",
       "    .dataframe thead th {\n",
       "        text-align: right;\n",
       "    }\n",
       "</style>\n",
       "<table border=\"1\" class=\"dataframe\">\n",
       "  <thead>\n",
       "    <tr style=\"text-align: right;\">\n",
       "      <th></th>\n",
       "      <th>dt</th>\n",
       "      <th>AverageTemperature(F)</th>\n",
       "      <th>AverageTemperatureUncertainty</th>\n",
       "      <th>City</th>\n",
       "      <th>Country</th>\n",
       "      <th>Latitude</th>\n",
       "      <th>Longitude</th>\n",
       "    </tr>\n",
       "  </thead>\n",
       "  <tbody>\n",
       "    <tr>\n",
       "      <th>2126</th>\n",
       "      <td>1921-01-01</td>\n",
       "      <td>36.3362</td>\n",
       "      <td>0.430</td>\n",
       "      <td>Århus</td>\n",
       "      <td>Denmark</td>\n",
       "      <td>57.05N</td>\n",
       "      <td>10.33E</td>\n",
       "    </tr>\n",
       "    <tr>\n",
       "      <th>2127</th>\n",
       "      <td>1921-02-01</td>\n",
       "      <td>35.5910</td>\n",
       "      <td>0.437</td>\n",
       "      <td>Århus</td>\n",
       "      <td>Denmark</td>\n",
       "      <td>57.05N</td>\n",
       "      <td>10.33E</td>\n",
       "    </tr>\n",
       "    <tr>\n",
       "      <th>2128</th>\n",
       "      <td>1921-03-01</td>\n",
       "      <td>41.5310</td>\n",
       "      <td>0.332</td>\n",
       "      <td>Århus</td>\n",
       "      <td>Denmark</td>\n",
       "      <td>57.05N</td>\n",
       "      <td>10.33E</td>\n",
       "    </tr>\n",
       "    <tr>\n",
       "      <th>2129</th>\n",
       "      <td>1921-04-01</td>\n",
       "      <td>46.9976</td>\n",
       "      <td>0.456</td>\n",
       "      <td>Århus</td>\n",
       "      <td>Denmark</td>\n",
       "      <td>57.05N</td>\n",
       "      <td>10.33E</td>\n",
       "    </tr>\n",
       "    <tr>\n",
       "      <th>2130</th>\n",
       "      <td>1921-05-01</td>\n",
       "      <td>54.5936</td>\n",
       "      <td>0.423</td>\n",
       "      <td>Århus</td>\n",
       "      <td>Denmark</td>\n",
       "      <td>57.05N</td>\n",
       "      <td>10.33E</td>\n",
       "    </tr>\n",
       "    <tr>\n",
       "      <th>...</th>\n",
       "      <td>...</td>\n",
       "      <td>...</td>\n",
       "      <td>...</td>\n",
       "      <td>...</td>\n",
       "      <td>...</td>\n",
       "      <td>...</td>\n",
       "      <td>...</td>\n",
       "    </tr>\n",
       "    <tr>\n",
       "      <th>8599207</th>\n",
       "      <td>2013-05-01</td>\n",
       "      <td>52.6352</td>\n",
       "      <td>0.236</td>\n",
       "      <td>Zwolle</td>\n",
       "      <td>Netherlands</td>\n",
       "      <td>52.24N</td>\n",
       "      <td>5.26E</td>\n",
       "    </tr>\n",
       "    <tr>\n",
       "      <th>8599208</th>\n",
       "      <td>2013-06-01</td>\n",
       "      <td>59.0774</td>\n",
       "      <td>0.261</td>\n",
       "      <td>Zwolle</td>\n",
       "      <td>Netherlands</td>\n",
       "      <td>52.24N</td>\n",
       "      <td>5.26E</td>\n",
       "    </tr>\n",
       "    <tr>\n",
       "      <th>8599209</th>\n",
       "      <td>2013-07-01</td>\n",
       "      <td>65.7950</td>\n",
       "      <td>0.193</td>\n",
       "      <td>Zwolle</td>\n",
       "      <td>Netherlands</td>\n",
       "      <td>52.24N</td>\n",
       "      <td>5.26E</td>\n",
       "    </tr>\n",
       "    <tr>\n",
       "      <th>8599210</th>\n",
       "      <td>2013-08-01</td>\n",
       "      <td>64.4450</td>\n",
       "      <td>0.298</td>\n",
       "      <td>Zwolle</td>\n",
       "      <td>Netherlands</td>\n",
       "      <td>52.24N</td>\n",
       "      <td>5.26E</td>\n",
       "    </tr>\n",
       "    <tr>\n",
       "      <th>8599211</th>\n",
       "      <td>2013-09-01</td>\n",
       "      <td>64.4450</td>\n",
       "      <td>NaN</td>\n",
       "      <td>Zwolle</td>\n",
       "      <td>Netherlands</td>\n",
       "      <td>52.24N</td>\n",
       "      <td>5.26E</td>\n",
       "    </tr>\n",
       "  </tbody>\n",
       "</table>\n",
       "<p>3906630 rows × 7 columns</p>\n",
       "</div>"
      ],
      "text/plain": [
       "                dt  AverageTemperature(F)  AverageTemperatureUncertainty  \\\n",
       "2126    1921-01-01                36.3362                          0.430   \n",
       "2127    1921-02-01                35.5910                          0.437   \n",
       "2128    1921-03-01                41.5310                          0.332   \n",
       "2129    1921-04-01                46.9976                          0.456   \n",
       "2130    1921-05-01                54.5936                          0.423   \n",
       "...            ...                    ...                            ...   \n",
       "8599207 2013-05-01                52.6352                          0.236   \n",
       "8599208 2013-06-01                59.0774                          0.261   \n",
       "8599209 2013-07-01                65.7950                          0.193   \n",
       "8599210 2013-08-01                64.4450                          0.298   \n",
       "8599211 2013-09-01                64.4450                            NaN   \n",
       "\n",
       "           City      Country Latitude Longitude  \n",
       "2126      Århus      Denmark   57.05N    10.33E  \n",
       "2127      Århus      Denmark   57.05N    10.33E  \n",
       "2128      Århus      Denmark   57.05N    10.33E  \n",
       "2129      Århus      Denmark   57.05N    10.33E  \n",
       "2130      Århus      Denmark   57.05N    10.33E  \n",
       "...         ...          ...      ...       ...  \n",
       "8599207  Zwolle  Netherlands   52.24N     5.26E  \n",
       "8599208  Zwolle  Netherlands   52.24N     5.26E  \n",
       "8599209  Zwolle  Netherlands   52.24N     5.26E  \n",
       "8599210  Zwolle  Netherlands   52.24N     5.26E  \n",
       "8599211  Zwolle  Netherlands   52.24N     5.26E  \n",
       "\n",
       "[3906630 rows x 7 columns]"
      ]
     },
     "execution_count": 43,
     "metadata": {},
     "output_type": "execute_result"
    }
   ],
   "source": [
    "df2 = df2.rename(columns={'AverageTemperature': 'AverageTemperature(F)'})\n",
    "df2"
   ]
  },
  {
   "cell_type": "code",
   "execution_count": 44,
   "id": "8a7740a0",
   "metadata": {},
   "outputs": [],
   "source": [
    "df2.to_csv('CleanedGlobalLandTemperaturesByCity.csv')\n"
   ]
  },
  {
   "cell_type": "code",
   "execution_count": null,
   "id": "0efd0b13",
   "metadata": {},
   "outputs": [],
   "source": []
  }
 ],
 "metadata": {
  "kernelspec": {
   "display_name": "myprojects",
   "language": "python",
   "name": "myprojects"
  },
  "language_info": {
   "codemirror_mode": {
    "name": "ipython",
    "version": 3
   },
   "file_extension": ".py",
   "mimetype": "text/x-python",
   "name": "python",
   "nbconvert_exporter": "python",
   "pygments_lexer": "ipython3",
   "version": "3.7.1"
  }
 },
 "nbformat": 4,
 "nbformat_minor": 5
}
