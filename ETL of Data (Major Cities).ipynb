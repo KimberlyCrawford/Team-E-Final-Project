{
 "cells": [
  {
   "cell_type": "code",
   "execution_count": 1,
   "id": "7fcc9451",
   "metadata": {},
   "outputs": [],
   "source": [
    "import pandas as pd\n",
    "import numpy as np\n",
    "import matplotlib.pyplot as plt\n"
   ]
  },
  {
   "cell_type": "code",
   "execution_count": 2,
   "id": "4d3c5740",
   "metadata": {},
   "outputs": [
    {
     "data": {
      "text/html": [
       "<div>\n",
       "<style scoped>\n",
       "    .dataframe tbody tr th:only-of-type {\n",
       "        vertical-align: middle;\n",
       "    }\n",
       "\n",
       "    .dataframe tbody tr th {\n",
       "        vertical-align: top;\n",
       "    }\n",
       "\n",
       "    .dataframe thead th {\n",
       "        text-align: right;\n",
       "    }\n",
       "</style>\n",
       "<table border=\"1\" class=\"dataframe\">\n",
       "  <thead>\n",
       "    <tr style=\"text-align: right;\">\n",
       "      <th></th>\n",
       "      <th>dt</th>\n",
       "      <th>AverageTemperature</th>\n",
       "      <th>AverageTemperatureUncertainty</th>\n",
       "      <th>City</th>\n",
       "      <th>Country</th>\n",
       "      <th>Latitude</th>\n",
       "      <th>Longitude</th>\n",
       "    </tr>\n",
       "  </thead>\n",
       "  <tbody>\n",
       "    <tr>\n",
       "      <th>0</th>\n",
       "      <td>1849-01-01</td>\n",
       "      <td>26.704</td>\n",
       "      <td>1.435</td>\n",
       "      <td>Abidjan</td>\n",
       "      <td>Côte D'Ivoire</td>\n",
       "      <td>5.63N</td>\n",
       "      <td>3.23W</td>\n",
       "    </tr>\n",
       "    <tr>\n",
       "      <th>1</th>\n",
       "      <td>1849-02-01</td>\n",
       "      <td>27.434</td>\n",
       "      <td>1.362</td>\n",
       "      <td>Abidjan</td>\n",
       "      <td>Côte D'Ivoire</td>\n",
       "      <td>5.63N</td>\n",
       "      <td>3.23W</td>\n",
       "    </tr>\n",
       "    <tr>\n",
       "      <th>2</th>\n",
       "      <td>1849-03-01</td>\n",
       "      <td>28.101</td>\n",
       "      <td>1.612</td>\n",
       "      <td>Abidjan</td>\n",
       "      <td>Côte D'Ivoire</td>\n",
       "      <td>5.63N</td>\n",
       "      <td>3.23W</td>\n",
       "    </tr>\n",
       "    <tr>\n",
       "      <th>3</th>\n",
       "      <td>1849-04-01</td>\n",
       "      <td>26.140</td>\n",
       "      <td>1.387</td>\n",
       "      <td>Abidjan</td>\n",
       "      <td>Côte D'Ivoire</td>\n",
       "      <td>5.63N</td>\n",
       "      <td>3.23W</td>\n",
       "    </tr>\n",
       "    <tr>\n",
       "      <th>4</th>\n",
       "      <td>1849-05-01</td>\n",
       "      <td>25.427</td>\n",
       "      <td>1.200</td>\n",
       "      <td>Abidjan</td>\n",
       "      <td>Côte D'Ivoire</td>\n",
       "      <td>5.63N</td>\n",
       "      <td>3.23W</td>\n",
       "    </tr>\n",
       "  </tbody>\n",
       "</table>\n",
       "</div>"
      ],
      "text/plain": [
       "           dt  AverageTemperature  AverageTemperatureUncertainty     City  \\\n",
       "0  1849-01-01              26.704                          1.435  Abidjan   \n",
       "1  1849-02-01              27.434                          1.362  Abidjan   \n",
       "2  1849-03-01              28.101                          1.612  Abidjan   \n",
       "3  1849-04-01              26.140                          1.387  Abidjan   \n",
       "4  1849-05-01              25.427                          1.200  Abidjan   \n",
       "\n",
       "         Country Latitude Longitude  \n",
       "0  Côte D'Ivoire    5.63N     3.23W  \n",
       "1  Côte D'Ivoire    5.63N     3.23W  \n",
       "2  Côte D'Ivoire    5.63N     3.23W  \n",
       "3  Côte D'Ivoire    5.63N     3.23W  \n",
       "4  Côte D'Ivoire    5.63N     3.23W  "
      ]
     },
     "execution_count": 2,
     "metadata": {},
     "output_type": "execute_result"
    }
   ],
   "source": [
    "df = pd.read_csv(\"Resources/GlobalLandTemperaturesByMajorCity.csv\")\n",
    "df.head()\n"
   ]
  },
  {
   "cell_type": "code",
   "execution_count": 3,
   "id": "d5386d04",
   "metadata": {},
   "outputs": [
    {
     "data": {
      "text/plain": [
       "(239177, 7)"
      ]
     },
     "execution_count": 3,
     "metadata": {},
     "output_type": "execute_result"
    }
   ],
   "source": [
    "df.shape"
   ]
  },
  {
   "cell_type": "code",
   "execution_count": 4,
   "id": "b024d0a0",
   "metadata": {},
   "outputs": [
    {
     "data": {
      "text/plain": [
       "dt                                object\n",
       "AverageTemperature               float64\n",
       "AverageTemperatureUncertainty    float64\n",
       "City                              object\n",
       "Country                           object\n",
       "Latitude                          object\n",
       "Longitude                         object\n",
       "dtype: object"
      ]
     },
     "execution_count": 4,
     "metadata": {},
     "output_type": "execute_result"
    }
   ],
   "source": [
    "df.dtypes"
   ]
  },
  {
   "cell_type": "code",
   "execution_count": 5,
   "id": "6de5bb1f",
   "metadata": {},
   "outputs": [
    {
     "data": {
      "text/plain": [
       "array(['Abidjan', 'Addis Abeba', 'Ahmadabad', 'Aleppo', 'Alexandria',\n",
       "       'Ankara', 'Baghdad', 'Bangalore', 'Bangkok', 'Belo Horizonte',\n",
       "       'Berlin', 'Bogotá', 'Bombay', 'Brasília', 'Cairo', 'Calcutta',\n",
       "       'Cali', 'Cape Town', 'Casablanca', 'Changchun', 'Chengdu',\n",
       "       'Chicago', 'Chongqing', 'Dakar', 'Dalian', 'Dar Es Salaam',\n",
       "       'Delhi', 'Dhaka', 'Durban', 'Faisalabad', 'Fortaleza', 'Gizeh',\n",
       "       'Guangzhou', 'Harare', 'Harbin', 'Ho Chi Minh City', 'Hyderabad',\n",
       "       'Ibadan', 'Istanbul', 'Izmir', 'Jaipur', 'Jakarta', 'Jiddah',\n",
       "       'Jinan', 'Kabul', 'Kano', 'Kanpur', 'Karachi', 'Kiev', 'Kinshasa',\n",
       "       'Lagos', 'Lahore', 'Lakhnau', 'Lima', 'London', 'Los Angeles',\n",
       "       'Luanda', 'Madras', 'Madrid', 'Manila', 'Mashhad', 'Melbourne',\n",
       "       'Mexico', 'Mogadishu', 'Montreal', 'Moscow', 'Nagoya', 'Nagpur',\n",
       "       'Nairobi', 'Nanjing', 'New Delhi', 'New York', 'Paris', 'Peking',\n",
       "       'Pune', 'Rangoon', 'Rio De Janeiro', 'Riyadh', 'Rome', 'São Paulo',\n",
       "       'Saint Petersburg', 'Salvador', 'Santiago', 'Santo Domingo',\n",
       "       'Seoul', 'Shanghai', 'Shenyang', 'Singapore', 'Surabaya', 'Surat',\n",
       "       'Sydney', 'Taipei', 'Taiyuan', 'Tangshan', 'Tianjin', 'Tokyo',\n",
       "       'Toronto', 'Umm Durman', 'Wuhan', 'Xian'], dtype=object)"
      ]
     },
     "execution_count": 5,
     "metadata": {},
     "output_type": "execute_result"
    }
   ],
   "source": [
    "#List of state names\n",
    "city_names = df.City.unique()\n",
    "city_names"
   ]
  },
  {
   "cell_type": "code",
   "execution_count": 6,
   "id": "f31db935",
   "metadata": {},
   "outputs": [
    {
     "data": {
      "text/plain": [
       "array([\"Côte D'Ivoire\", 'Ethiopia', 'India', 'Syria', 'Egypt', 'Turkey',\n",
       "       'Iraq', 'Thailand', 'Brazil', 'Germany', 'Colombia',\n",
       "       'South Africa', 'Morocco', 'China', 'United States', 'Senegal',\n",
       "       'Tanzania', 'Bangladesh', 'Pakistan', 'Zimbabwe', 'Vietnam',\n",
       "       'Nigeria', 'Indonesia', 'Saudi Arabia', 'Afghanistan', 'Ukraine',\n",
       "       'Congo (Democratic Republic Of The)', 'Peru', 'United Kingdom',\n",
       "       'Angola', 'Spain', 'Philippines', 'Iran', 'Australia', 'Mexico',\n",
       "       'Somalia', 'Canada', 'Russia', 'Japan', 'Kenya', 'France', 'Burma',\n",
       "       'Italy', 'Chile', 'Dominican Republic', 'South Korea', 'Singapore',\n",
       "       'Taiwan', 'Sudan'], dtype=object)"
      ]
     },
     "execution_count": 6,
     "metadata": {},
     "output_type": "execute_result"
    }
   ],
   "source": [
    "# list of country names\n",
    "country_names = df.Country.unique()\n",
    "country_names"
   ]
  },
  {
   "cell_type": "code",
   "execution_count": 7,
   "id": "229b907a",
   "metadata": {},
   "outputs": [
    {
     "data": {
      "text/plain": [
       "False    228175\n",
       "True      11002\n",
       "Name: AverageTemperature, dtype: int64"
      ]
     },
     "execution_count": 7,
     "metadata": {},
     "output_type": "execute_result"
    }
   ],
   "source": [
    "df.AverageTemperature.isna().value_counts()"
   ]
  },
  {
   "cell_type": "code",
   "execution_count": 8,
   "id": "ee5c24a2",
   "metadata": {},
   "outputs": [
    {
     "data": {
      "text/plain": [
       "0.048217377013257366"
      ]
     },
     "execution_count": 8,
     "metadata": {},
     "output_type": "execute_result"
    }
   ],
   "source": [
    "#Percentage of null values\n",
    "11002/228175"
   ]
  },
  {
   "cell_type": "code",
   "execution_count": 9,
   "id": "27fda29c",
   "metadata": {},
   "outputs": [],
   "source": [
    "df_clean = df"
   ]
  },
  {
   "cell_type": "markdown",
   "id": "9aa4af82",
   "metadata": {},
   "source": [
    "# Change dt column to a date time object"
   ]
  },
  {
   "cell_type": "code",
   "execution_count": 10,
   "id": "3dbcb352",
   "metadata": {},
   "outputs": [],
   "source": [
    "df_clean.dt = pd.to_datetime(df_clean.dt)\n"
   ]
  },
  {
   "cell_type": "code",
   "execution_count": 11,
   "id": "ff12405d",
   "metadata": {},
   "outputs": [
    {
     "data": {
      "text/plain": [
       "dt                               datetime64[ns]\n",
       "AverageTemperature                      float64\n",
       "AverageTemperatureUncertainty           float64\n",
       "City                                     object\n",
       "Country                                  object\n",
       "Latitude                                 object\n",
       "Longitude                                object\n",
       "dtype: object"
      ]
     },
     "execution_count": 11,
     "metadata": {},
     "output_type": "execute_result"
    }
   ],
   "source": [
    "df_clean.dtypes"
   ]
  },
  {
   "cell_type": "code",
   "execution_count": 12,
   "id": "acb69425",
   "metadata": {},
   "outputs": [],
   "source": [
    "df2 = df_clean[df_clean[\"dt\"] >= \"1921\"]"
   ]
  },
  {
   "cell_type": "markdown",
   "id": "dd5fbe57",
   "metadata": {},
   "source": [
    "# Removing null cells from Average Temperature"
   ]
  },
  {
   "cell_type": "code",
   "execution_count": 13,
   "id": "72df2223",
   "metadata": {},
   "outputs": [
    {
     "data": {
      "text/plain": [
       "False    111207\n",
       "True         93\n",
       "Name: AverageTemperature, dtype: int64"
      ]
     },
     "execution_count": 13,
     "metadata": {},
     "output_type": "execute_result"
    }
   ],
   "source": [
    "df2.AverageTemperature.isna().value_counts()"
   ]
  },
  {
   "cell_type": "code",
   "execution_count": 14,
   "id": "f38b2965",
   "metadata": {},
   "outputs": [
    {
     "data": {
      "text/plain": [
       "0.0008362782918341471"
      ]
     },
     "execution_count": 14,
     "metadata": {},
     "output_type": "execute_result"
    }
   ],
   "source": [
    "93/111207"
   ]
  },
  {
   "cell_type": "code",
   "execution_count": 15,
   "id": "93a055ce",
   "metadata": {},
   "outputs": [
    {
     "name": "stderr",
     "output_type": "stream",
     "text": [
      "C:\\Users\\trevo\\anaconda3\\envs\\myprojects\\lib\\site-packages\\pandas\\core\\generic.py:5516: SettingWithCopyWarning: \n",
      "A value is trying to be set on a copy of a slice from a DataFrame.\n",
      "Try using .loc[row_indexer,col_indexer] = value instead\n",
      "\n",
      "See the caveats in the documentation: https://pandas.pydata.org/pandas-docs/stable/user_guide/indexing.html#returning-a-view-versus-a-copy\n",
      "  self[name] = value\n"
     ]
    }
   ],
   "source": [
    "df2.AverageTemperature = df2.AverageTemperature.fillna(method='bfill')"
   ]
  },
  {
   "cell_type": "code",
   "execution_count": 16,
   "id": "300c0217",
   "metadata": {},
   "outputs": [
    {
     "data": {
      "text/plain": [
       "False    111299\n",
       "True          1\n",
       "Name: AverageTemperature, dtype: int64"
      ]
     },
     "execution_count": 16,
     "metadata": {},
     "output_type": "execute_result"
    }
   ],
   "source": [
    "df2.AverageTemperature.isna().value_counts()"
   ]
  },
  {
   "cell_type": "code",
   "execution_count": 17,
   "id": "90eb6426",
   "metadata": {},
   "outputs": [],
   "source": [
    "df2.AverageTemperature = df2.AverageTemperature.fillna(method='ffill')"
   ]
  },
  {
   "cell_type": "code",
   "execution_count": 18,
   "id": "692ab777",
   "metadata": {},
   "outputs": [
    {
     "data": {
      "text/plain": [
       "False    111300\n",
       "Name: AverageTemperature, dtype: int64"
      ]
     },
     "execution_count": 18,
     "metadata": {},
     "output_type": "execute_result"
    }
   ],
   "source": [
    "df2.AverageTemperature.isna().value_counts()"
   ]
  },
  {
   "cell_type": "markdown",
   "id": "6da88501",
   "metadata": {},
   "source": [
    "# Convert Average Temperature celsius to fahrenheit"
   ]
  },
  {
   "cell_type": "code",
   "execution_count": 19,
   "id": "e9392495",
   "metadata": {},
   "outputs": [
    {
     "data": {
      "text/html": [
       "<div>\n",
       "<style scoped>\n",
       "    .dataframe tbody tr th:only-of-type {\n",
       "        vertical-align: middle;\n",
       "    }\n",
       "\n",
       "    .dataframe tbody tr th {\n",
       "        vertical-align: top;\n",
       "    }\n",
       "\n",
       "    .dataframe thead th {\n",
       "        text-align: right;\n",
       "    }\n",
       "</style>\n",
       "<table border=\"1\" class=\"dataframe\">\n",
       "  <thead>\n",
       "    <tr style=\"text-align: right;\">\n",
       "      <th></th>\n",
       "      <th>dt</th>\n",
       "      <th>AverageTemperature</th>\n",
       "      <th>AverageTemperatureUncertainty</th>\n",
       "      <th>City</th>\n",
       "      <th>Country</th>\n",
       "      <th>Latitude</th>\n",
       "      <th>Longitude</th>\n",
       "    </tr>\n",
       "  </thead>\n",
       "  <tbody>\n",
       "    <tr>\n",
       "      <th>864</th>\n",
       "      <td>1921-01-01</td>\n",
       "      <td>26.686</td>\n",
       "      <td>0.924</td>\n",
       "      <td>Abidjan</td>\n",
       "      <td>Côte D'Ivoire</td>\n",
       "      <td>5.63N</td>\n",
       "      <td>3.23W</td>\n",
       "    </tr>\n",
       "    <tr>\n",
       "      <th>865</th>\n",
       "      <td>1921-02-01</td>\n",
       "      <td>28.659</td>\n",
       "      <td>1.065</td>\n",
       "      <td>Abidjan</td>\n",
       "      <td>Côte D'Ivoire</td>\n",
       "      <td>5.63N</td>\n",
       "      <td>3.23W</td>\n",
       "    </tr>\n",
       "    <tr>\n",
       "      <th>866</th>\n",
       "      <td>1921-03-01</td>\n",
       "      <td>27.794</td>\n",
       "      <td>0.985</td>\n",
       "      <td>Abidjan</td>\n",
       "      <td>Côte D'Ivoire</td>\n",
       "      <td>5.63N</td>\n",
       "      <td>3.23W</td>\n",
       "    </tr>\n",
       "    <tr>\n",
       "      <th>867</th>\n",
       "      <td>1921-04-01</td>\n",
       "      <td>27.579</td>\n",
       "      <td>1.091</td>\n",
       "      <td>Abidjan</td>\n",
       "      <td>Côte D'Ivoire</td>\n",
       "      <td>5.63N</td>\n",
       "      <td>3.23W</td>\n",
       "    </tr>\n",
       "    <tr>\n",
       "      <th>868</th>\n",
       "      <td>1921-05-01</td>\n",
       "      <td>26.512</td>\n",
       "      <td>0.455</td>\n",
       "      <td>Abidjan</td>\n",
       "      <td>Côte D'Ivoire</td>\n",
       "      <td>5.63N</td>\n",
       "      <td>3.23W</td>\n",
       "    </tr>\n",
       "    <tr>\n",
       "      <th>...</th>\n",
       "      <td>...</td>\n",
       "      <td>...</td>\n",
       "      <td>...</td>\n",
       "      <td>...</td>\n",
       "      <td>...</td>\n",
       "      <td>...</td>\n",
       "      <td>...</td>\n",
       "    </tr>\n",
       "    <tr>\n",
       "      <th>239172</th>\n",
       "      <td>2013-05-01</td>\n",
       "      <td>18.979</td>\n",
       "      <td>0.807</td>\n",
       "      <td>Xian</td>\n",
       "      <td>China</td>\n",
       "      <td>34.56N</td>\n",
       "      <td>108.97E</td>\n",
       "    </tr>\n",
       "    <tr>\n",
       "      <th>239173</th>\n",
       "      <td>2013-06-01</td>\n",
       "      <td>23.522</td>\n",
       "      <td>0.647</td>\n",
       "      <td>Xian</td>\n",
       "      <td>China</td>\n",
       "      <td>34.56N</td>\n",
       "      <td>108.97E</td>\n",
       "    </tr>\n",
       "    <tr>\n",
       "      <th>239174</th>\n",
       "      <td>2013-07-01</td>\n",
       "      <td>25.251</td>\n",
       "      <td>1.042</td>\n",
       "      <td>Xian</td>\n",
       "      <td>China</td>\n",
       "      <td>34.56N</td>\n",
       "      <td>108.97E</td>\n",
       "    </tr>\n",
       "    <tr>\n",
       "      <th>239175</th>\n",
       "      <td>2013-08-01</td>\n",
       "      <td>24.528</td>\n",
       "      <td>0.840</td>\n",
       "      <td>Xian</td>\n",
       "      <td>China</td>\n",
       "      <td>34.56N</td>\n",
       "      <td>108.97E</td>\n",
       "    </tr>\n",
       "    <tr>\n",
       "      <th>239176</th>\n",
       "      <td>2013-09-01</td>\n",
       "      <td>24.528</td>\n",
       "      <td>NaN</td>\n",
       "      <td>Xian</td>\n",
       "      <td>China</td>\n",
       "      <td>34.56N</td>\n",
       "      <td>108.97E</td>\n",
       "    </tr>\n",
       "  </tbody>\n",
       "</table>\n",
       "<p>111300 rows × 7 columns</p>\n",
       "</div>"
      ],
      "text/plain": [
       "               dt  AverageTemperature  AverageTemperatureUncertainty     City  \\\n",
       "864    1921-01-01              26.686                          0.924  Abidjan   \n",
       "865    1921-02-01              28.659                          1.065  Abidjan   \n",
       "866    1921-03-01              27.794                          0.985  Abidjan   \n",
       "867    1921-04-01              27.579                          1.091  Abidjan   \n",
       "868    1921-05-01              26.512                          0.455  Abidjan   \n",
       "...           ...                 ...                            ...      ...   \n",
       "239172 2013-05-01              18.979                          0.807     Xian   \n",
       "239173 2013-06-01              23.522                          0.647     Xian   \n",
       "239174 2013-07-01              25.251                          1.042     Xian   \n",
       "239175 2013-08-01              24.528                          0.840     Xian   \n",
       "239176 2013-09-01              24.528                            NaN     Xian   \n",
       "\n",
       "              Country Latitude Longitude  \n",
       "864     Côte D'Ivoire    5.63N     3.23W  \n",
       "865     Côte D'Ivoire    5.63N     3.23W  \n",
       "866     Côte D'Ivoire    5.63N     3.23W  \n",
       "867     Côte D'Ivoire    5.63N     3.23W  \n",
       "868     Côte D'Ivoire    5.63N     3.23W  \n",
       "...               ...      ...       ...  \n",
       "239172          China   34.56N   108.97E  \n",
       "239173          China   34.56N   108.97E  \n",
       "239174          China   34.56N   108.97E  \n",
       "239175          China   34.56N   108.97E  \n",
       "239176          China   34.56N   108.97E  \n",
       "\n",
       "[111300 rows x 7 columns]"
      ]
     },
     "execution_count": 19,
     "metadata": {},
     "output_type": "execute_result"
    }
   ],
   "source": [
    "df2"
   ]
  },
  {
   "cell_type": "markdown",
   "id": "f74319e1",
   "metadata": {},
   "source": []
  },
  {
   "cell_type": "code",
   "execution_count": 20,
   "id": "40bd74cb",
   "metadata": {},
   "outputs": [
    {
     "name": "stderr",
     "output_type": "stream",
     "text": [
      "C:\\Users\\trevo\\anaconda3\\envs\\myprojects\\lib\\site-packages\\pandas\\core\\generic.py:5516: SettingWithCopyWarning: \n",
      "A value is trying to be set on a copy of a slice from a DataFrame.\n",
      "Try using .loc[row_indexer,col_indexer] = value instead\n",
      "\n",
      "See the caveats in the documentation: https://pandas.pydata.org/pandas-docs/stable/user_guide/indexing.html#returning-a-view-versus-a-copy\n",
      "  self[name] = value\n"
     ]
    }
   ],
   "source": [
    "df2.AverageTemperature = df2[\"AverageTemperature\"] *(9/5) + 32"
   ]
  },
  {
   "cell_type": "markdown",
   "id": "ef28baf7",
   "metadata": {},
   "source": [
    "# Find the top 5 cities with average temperature <= 32"
   ]
  },
  {
   "cell_type": "code",
   "execution_count": 21,
   "id": "31190c84",
   "metadata": {},
   "outputs": [
    {
     "data": {
      "text/plain": [
       "100"
      ]
     },
     "execution_count": 21,
     "metadata": {},
     "output_type": "execute_result"
    }
   ],
   "source": [
    "city_names = df2.City.unique()\n",
    "len(city_names)\n",
    "\n"
   ]
  },
  {
   "cell_type": "code",
   "execution_count": 22,
   "id": "f7290f18",
   "metadata": {},
   "outputs": [],
   "source": [
    "df3 = df2[df2[\"AverageTemperature\"] <= 32]"
   ]
  },
  {
   "cell_type": "code",
   "execution_count": 23,
   "id": "ca26ea3c",
   "metadata": {},
   "outputs": [
    {
     "data": {
      "text/plain": [
       "Harbin              459\n",
       "Changchun           454\n",
       "Moscow              430\n",
       "Montreal            398\n",
       "Saint Petersburg    386\n",
       "Toronto             366\n",
       "Shenyang            354\n",
       "Kiev                323\n",
       "Taiyuan             303\n",
       "Dalian              264\n",
       "Tianjin             251\n",
       "Peking              251\n",
       "Tangshan            225\n",
       "Seoul               222\n",
       "New York            208\n",
       "Xian                173\n",
       "Santiago            152\n",
       "Jinan               135\n",
       "Chicago             119\n",
       "Ankara              109\n",
       "Berlin               96\n",
       "Mashhad              64\n",
       "Chengdu              31\n",
       "Tokyo                18\n",
       "Paris                17\n",
       "Kabul                16\n",
       "London               10\n",
       "Nanjing               4\n",
       "Rome                  3\n",
       "Wuhan                 2\n",
       "Casablanca            1\n",
       "Dakar                 1\n",
       "Taipei                1\n",
       "Jiddah                1\n",
       "Shanghai              1\n",
       "Harare                1\n",
       "Madrid                1\n",
       "São Paulo             1\n",
       "New Delhi             1\n",
       "Karachi               1\n",
       "Mogadishu             1\n",
       "Alexandria            1\n",
       "Name: City, dtype: int64"
      ]
     },
     "execution_count": 23,
     "metadata": {},
     "output_type": "execute_result"
    }
   ],
   "source": [
    "df3['City'].value_counts()"
   ]
  },
  {
   "cell_type": "code",
   "execution_count": 24,
   "id": "016adf8d",
   "metadata": {},
   "outputs": [],
   "source": [
    "days_below_freezing = df3['City'].value_counts()"
   ]
  },
  {
   "cell_type": "code",
   "execution_count": 25,
   "id": "3089b0b4",
   "metadata": {},
   "outputs": [],
   "source": [
    "top_5_coldest = list(days_below_freezing[0:5].keys())"
   ]
  },
  {
   "cell_type": "code",
   "execution_count": 26,
   "id": "078338e9",
   "metadata": {},
   "outputs": [
    {
     "data": {
      "text/plain": [
       "['Harbin', 'Changchun', 'Moscow', 'Montreal', 'Saint Petersburg']"
      ]
     },
     "execution_count": 26,
     "metadata": {},
     "output_type": "execute_result"
    }
   ],
   "source": [
    "top_5_coldest"
   ]
  },
  {
   "cell_type": "code",
   "execution_count": 27,
   "id": "1fd2e95c",
   "metadata": {},
   "outputs": [],
   "source": [
    "df4 = df2.loc[df2['City'].isin(top_5_coldest)]"
   ]
  },
  {
   "cell_type": "code",
   "execution_count": 28,
   "id": "7e09868f",
   "metadata": {},
   "outputs": [
    {
     "data": {
      "text/html": [
       "<div>\n",
       "<style scoped>\n",
       "    .dataframe tbody tr th:only-of-type {\n",
       "        vertical-align: middle;\n",
       "    }\n",
       "\n",
       "    .dataframe tbody tr th {\n",
       "        vertical-align: top;\n",
       "    }\n",
       "\n",
       "    .dataframe thead th {\n",
       "        text-align: right;\n",
       "    }\n",
       "</style>\n",
       "<table border=\"1\" class=\"dataframe\">\n",
       "  <thead>\n",
       "    <tr style=\"text-align: right;\">\n",
       "      <th></th>\n",
       "      <th>dt</th>\n",
       "      <th>AverageTemperature</th>\n",
       "      <th>AverageTemperatureUncertainty</th>\n",
       "      <th>City</th>\n",
       "      <th>Country</th>\n",
       "      <th>Latitude</th>\n",
       "      <th>Longitude</th>\n",
       "    </tr>\n",
       "  </thead>\n",
       "  <tbody>\n",
       "    <tr>\n",
       "      <th>48243</th>\n",
       "      <td>1921-01-01</td>\n",
       "      <td>6.9908</td>\n",
       "      <td>1.021</td>\n",
       "      <td>Changchun</td>\n",
       "      <td>China</td>\n",
       "      <td>44.20N</td>\n",
       "      <td>125.22E</td>\n",
       "    </tr>\n",
       "    <tr>\n",
       "      <th>48244</th>\n",
       "      <td>1921-02-01</td>\n",
       "      <td>11.9930</td>\n",
       "      <td>0.593</td>\n",
       "      <td>Changchun</td>\n",
       "      <td>China</td>\n",
       "      <td>44.20N</td>\n",
       "      <td>125.22E</td>\n",
       "    </tr>\n",
       "    <tr>\n",
       "      <th>48245</th>\n",
       "      <td>1921-03-01</td>\n",
       "      <td>24.1394</td>\n",
       "      <td>0.278</td>\n",
       "      <td>Changchun</td>\n",
       "      <td>China</td>\n",
       "      <td>44.20N</td>\n",
       "      <td>125.22E</td>\n",
       "    </tr>\n",
       "    <tr>\n",
       "      <th>48246</th>\n",
       "      <td>1921-04-01</td>\n",
       "      <td>43.6406</td>\n",
       "      <td>0.700</td>\n",
       "      <td>Changchun</td>\n",
       "      <td>China</td>\n",
       "      <td>44.20N</td>\n",
       "      <td>125.22E</td>\n",
       "    </tr>\n",
       "    <tr>\n",
       "      <th>48247</th>\n",
       "      <td>1921-05-01</td>\n",
       "      <td>59.3456</td>\n",
       "      <td>0.480</td>\n",
       "      <td>Changchun</td>\n",
       "      <td>China</td>\n",
       "      <td>44.20N</td>\n",
       "      <td>125.22E</td>\n",
       "    </tr>\n",
       "    <tr>\n",
       "      <th>...</th>\n",
       "      <td>...</td>\n",
       "      <td>...</td>\n",
       "      <td>...</td>\n",
       "      <td>...</td>\n",
       "      <td>...</td>\n",
       "      <td>...</td>\n",
       "      <td>...</td>\n",
       "    </tr>\n",
       "    <tr>\n",
       "      <th>196675</th>\n",
       "      <td>2013-05-01</td>\n",
       "      <td>54.2390</td>\n",
       "      <td>0.195</td>\n",
       "      <td>Saint Petersburg</td>\n",
       "      <td>Russia</td>\n",
       "      <td>60.27N</td>\n",
       "      <td>29.19E</td>\n",
       "    </tr>\n",
       "    <tr>\n",
       "      <th>196676</th>\n",
       "      <td>2013-06-01</td>\n",
       "      <td>62.9330</td>\n",
       "      <td>0.413</td>\n",
       "      <td>Saint Petersburg</td>\n",
       "      <td>Russia</td>\n",
       "      <td>60.27N</td>\n",
       "      <td>29.19E</td>\n",
       "    </tr>\n",
       "    <tr>\n",
       "      <th>196677</th>\n",
       "      <td>2013-07-01</td>\n",
       "      <td>63.0212</td>\n",
       "      <td>0.273</td>\n",
       "      <td>Saint Petersburg</td>\n",
       "      <td>Russia</td>\n",
       "      <td>60.27N</td>\n",
       "      <td>29.19E</td>\n",
       "    </tr>\n",
       "    <tr>\n",
       "      <th>196678</th>\n",
       "      <td>2013-08-01</td>\n",
       "      <td>62.8754</td>\n",
       "      <td>0.279</td>\n",
       "      <td>Saint Petersburg</td>\n",
       "      <td>Russia</td>\n",
       "      <td>60.27N</td>\n",
       "      <td>29.19E</td>\n",
       "    </tr>\n",
       "    <tr>\n",
       "      <th>196679</th>\n",
       "      <td>2013-09-01</td>\n",
       "      <td>78.6326</td>\n",
       "      <td>NaN</td>\n",
       "      <td>Saint Petersburg</td>\n",
       "      <td>Russia</td>\n",
       "      <td>60.27N</td>\n",
       "      <td>29.19E</td>\n",
       "    </tr>\n",
       "  </tbody>\n",
       "</table>\n",
       "<p>5565 rows × 7 columns</p>\n",
       "</div>"
      ],
      "text/plain": [
       "               dt  AverageTemperature  AverageTemperatureUncertainty  \\\n",
       "48243  1921-01-01              6.9908                          1.021   \n",
       "48244  1921-02-01             11.9930                          0.593   \n",
       "48245  1921-03-01             24.1394                          0.278   \n",
       "48246  1921-04-01             43.6406                          0.700   \n",
       "48247  1921-05-01             59.3456                          0.480   \n",
       "...           ...                 ...                            ...   \n",
       "196675 2013-05-01             54.2390                          0.195   \n",
       "196676 2013-06-01             62.9330                          0.413   \n",
       "196677 2013-07-01             63.0212                          0.273   \n",
       "196678 2013-08-01             62.8754                          0.279   \n",
       "196679 2013-09-01             78.6326                            NaN   \n",
       "\n",
       "                    City Country Latitude Longitude  \n",
       "48243          Changchun   China   44.20N   125.22E  \n",
       "48244          Changchun   China   44.20N   125.22E  \n",
       "48245          Changchun   China   44.20N   125.22E  \n",
       "48246          Changchun   China   44.20N   125.22E  \n",
       "48247          Changchun   China   44.20N   125.22E  \n",
       "...                  ...     ...      ...       ...  \n",
       "196675  Saint Petersburg  Russia   60.27N    29.19E  \n",
       "196676  Saint Petersburg  Russia   60.27N    29.19E  \n",
       "196677  Saint Petersburg  Russia   60.27N    29.19E  \n",
       "196678  Saint Petersburg  Russia   60.27N    29.19E  \n",
       "196679  Saint Petersburg  Russia   60.27N    29.19E  \n",
       "\n",
       "[5565 rows x 7 columns]"
      ]
     },
     "execution_count": 28,
     "metadata": {},
     "output_type": "execute_result"
    }
   ],
   "source": [
    "df4"
   ]
  },
  {
   "cell_type": "markdown",
   "id": "04619d3e",
   "metadata": {},
   "source": [
    "# Export CSV to File"
   ]
  },
  {
   "cell_type": "code",
   "execution_count": 29,
   "id": "faedf09e",
   "metadata": {},
   "outputs": [],
   "source": [
    "df4.to_csv(\"CleanedGlobalLandTemperaturesByMajorCity.csv\")"
   ]
  }
 ],
 "metadata": {
  "kernelspec": {
   "display_name": "myprojects",
   "language": "python",
   "name": "myprojects"
  },
  "language_info": {
   "codemirror_mode": {
    "name": "ipython",
    "version": 3
   },
   "file_extension": ".py",
   "mimetype": "text/x-python",
   "name": "python",
   "nbconvert_exporter": "python",
   "pygments_lexer": "ipython3",
   "version": "3.7.1"
  }
 },
 "nbformat": 4,
 "nbformat_minor": 5
}
